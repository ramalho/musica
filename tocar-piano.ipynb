{
 "cells": [
  {
   "cell_type": "markdown",
   "id": "40c1df9d",
   "metadata": {},
   "source": [
    "# Como tocar um piano com Python"
   ]
  },
  {
   "cell_type": "markdown",
   "id": "292f2674",
   "metadata": {},
   "source": [
    "Neste experimento vamos ver como usar Python para tocar *uma nota* em um piano virtual.\n",
    "\n",
    "> **NOTA:** Não é possível tocar os sons no Github;\n",
    "> você vai ter que baixar esse Jupyter Notebook se quiser brincar.\n",
    "\n",
    "No momento, não estou interessado em tocar um som sintético irritante como este:\n",
    "\n",
    "> *Onda senoidal de [440 Hz](https://bit.ly/3KBW4Ag)*\n",
    ">\n",
    "> <audio controls src=\"https://upload.wikimedia.org/wikipedia/commons/5/50/Sine_wave_440.ogg\"></audio>\n",
    "\n",
    "O objetivo é tocar notas com sons realísticos de piano,\n",
    "e para isso vamos usar Python para controlar um piano digital\n",
    "que pode ser um instrumento físico ou um instrumento virtual em software.\n",
    "\n",
    "Usaremos a biblioteca [Mido](https://mido.readthedocs.io/en/latest/),\n",
    "para enviar comandos MIDI para o piano.\n",
    "\n",
    "> **MIDI** é um protocolo serial para comunicação entre instrumentos musicais digitais,\n",
    "> suportado por todos os grandes fabricantes de equipamentos e software do mercado de música.\n",
    "> Originalmente as conexões MIDI eram feitas usando\n",
    "> [conectores e cabos DIN de 5 pinos](https://en.wikipedia.org/wiki/MIDI#Connectors)\n",
    "> mas em 2022 é cada vez mais comum usar USB para enviar mensagens MIDI.\n",
    "> Alguns teclados musicais e sintetizadores tem conectores MIDI e USB-C,\n",
    "> que é o padrão em periféricos como impressoras e scanners.\n",
    "\n",
    "Uma vez entendido esse básico, não estaremos limitados ao piano: poderemos tocar qualquer instrumento que possa ser controlado por MIDI."
   ]
  },
  {
   "cell_type": "markdown",
   "id": "e1b4c19c",
   "metadata": {},
   "source": [
    "## Portas MIDI: primeiro teste com Mido\n",
    "\n",
    "Softwares de que implementam MIDI usam o conceito de portas MIDI (*MIDI ports*).\n",
    "Uma porta MIDI é como um conector virtual que pode estar associado a um software ou instrumento.\n",
    "\n",
    "> FAZER: instruções para instalar Mido\n",
    "\n",
    "Um bom primeiro teste é usar a biblioteca Mido para obter\n",
    "a lista das portas de saída disponíveis no seu computador."
   ]
  },
  {
   "cell_type": "code",
   "execution_count": 1,
   "id": "fcb7aa6b",
   "metadata": {},
   "outputs": [
    {
     "data": {
      "text/plain": [
       "['IAC Driver Bus 1',\n",
       " 'IAC Driver labmus',\n",
       " 'IAC Driver Bus 1',\n",
       " 'IAC Driver labmus']"
      ]
     },
     "execution_count": 1,
     "metadata": {},
     "output_type": "execute_result"
    }
   ],
   "source": [
    "import mido\n",
    "\n",
    "mido.get_output_names()"
   ]
  },
  {
   "cell_type": "markdown",
   "id": "2c7cff5d",
   "metadata": {},
   "source": [
    "Não me pergunte porquê os nomes aparecem duplicados.\n",
    "\n",
    "A porta \"IAC Driver labmus\" eu criei no MacOS 12.2 (Monterey) usando as instruções\n",
    "[deste post](https://natespilman.com/blog/2020-03-23-generating-midi-music-stream-with-python/)—apenas\n",
    "trocando o nome \"pioneer\" por \"labmus\"."
   ]
  },
  {
   "cell_type": "markdown",
   "id": "db780cdf",
   "metadata": {},
   "source": [
    "## Um Piano Virtual\n",
    "\n",
    "O modo mais barato de obter um piano é através de um DAW.\n",
    "\n",
    "\n",
    "> **DAW**—Digital Audio Workstation—é um aplicativo de produção musical para\n",
    "> gravar, editar, e mixar trilhas de áudio e trilhas MIDI.\n",
    "> Ableton Live, LogicPro, e Ardour são alguns exemplos de DAW.\n",
    "> Audacity pode ser considarado um DAW, mas como ele não trabalha com MIDI,\n",
    "> não serve para esse experimento.\n",
    "\n",
    "Normalmente um DAW inclui uma coleção de instrumentos virtuais,\n",
    "entre eles pianos, sintetizadores, metais, percussão etc.\n",
    "\n",
    "Neste experimento estou usando o DAW GarageBand—incluído no MacOS.\n",
    "\n",
    "Para preparar um piano virtual no GarageBand são dois passos:\n",
    "\n",
    "1. Criar um projeto vazio.\n",
    "2. Criar uma trilha de instrumento de software.\n",
    "\n",
    "Na versão 10.4 do GarageBand esses dois passos configuram um \"Classic Electric Piano\" pronto para tocar."
   ]
  },
  {
   "cell_type": "markdown",
   "id": "fd25c52e",
   "metadata": {},
   "source": [
    "## Primeira nota\n",
    "\n",
    "Agora vamos tocar a primeira nota Lá após o Dó central do piano,\n",
    "conhecida como Lá 440 por causa da sua afinação padrão: 440 Hz.\n",
    "\n",
    "> *Ciano = Dó central; amarelo = Lá 440*\n",
    "> ![alt text](https://upload.wikimedia.org/wikipedia/commons/2/2e/Piano_Frequencies.svg \"Title\")"
   ]
  },
  {
   "cell_type": "code",
   "execution_count": 2,
   "id": "c4092b35",
   "metadata": {},
   "outputs": [],
   "source": [
    "lá_440 = 69  # código MIDI do Lá 440 Hz\n",
    "porta = mido.open_output('IAC Driver labmus')  # abrir porta MIDI para saída\n",
    "msg = mido.Message('note_on', note=lá_440, velocity=64)  # preparar mensagem MIDI\n",
    "porta.send(msg)  # enviar mensagem MIDI"
   ]
  },
  {
   "cell_type": "markdown",
   "id": "11a8cebb",
   "metadata": {},
   "source": [
    "O código acima envia a mensagem `'note_on'`.\n",
    "No piano, isso equivale a apertar uma tecla e mantê-la apertada:\n",
    "a nota dura alguns segundos, e vai sumindo gradualmente."
   ]
  },
  {
   "cell_type": "markdown",
   "id": "681095c3",
   "metadata": {},
   "source": [
    "### E se a nota não terminar nunca?\n",
    "\n",
    "Em alguns instrumentos, a nota continua tocando indefinidamente, até você soltar a tecla.\n",
    "Isso acontece com órgãos e sintetizadores, por exemplo.\n",
    "\n",
    "Em MIDI, para soltar a tecla é preciso enviar uma mensagem `'note_off'`, assim:"
   ]
  },
  {
   "cell_type": "code",
   "execution_count": 3,
   "id": "1b1492b2",
   "metadata": {},
   "outputs": [],
   "source": [
    "msg = mido.Message('note_off', note=lá_440)\n",
    "porta.send(msg)"
   ]
  },
  {
   "cell_type": "markdown",
   "id": "f10e5adc",
   "metadata": {},
   "source": [
    "Se você alternar entre este Jupyter notebook e o DAW, você pode experimentar diferentes instrumentos e perceber quais tocam notas continuamente, executando o código da célula acima para fazer parar."
   ]
  },
  {
   "cell_type": "markdown",
   "id": "eb373282",
   "metadata": {},
   "source": [
    "### Exercício\n",
    "\n",
    "Explore seu DAW para encontrar uma ou mais categorias de instrumentos analógicos—além de órgãos—que reproduzem uma nota continuamente a partir de uma mensagem `'note_on'`."
   ]
  }
 ],
 "metadata": {
  "kernelspec": {
   "display_name": "Python 3 (ipykernel)",
   "language": "python",
   "name": "python3"
  },
  "language_info": {
   "codemirror_mode": {
    "name": "ipython",
    "version": 3
   },
   "file_extension": ".py",
   "mimetype": "text/x-python",
   "name": "python",
   "nbconvert_exporter": "python",
   "pygments_lexer": "ipython3",
   "version": "3.10.2"
  }
 },
 "nbformat": 4,
 "nbformat_minor": 5
}
